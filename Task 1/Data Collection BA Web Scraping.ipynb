{
 "cells": [
  {
   "cell_type": "code",
   "execution_count": 164,
   "id": "d3266ee4",
   "metadata": {},
   "outputs": [],
   "source": [
    "## importing Necessary libraries \n",
    "\n",
    "from bs4 import BeautifulSoup\n",
    "import requests\n",
    "import pandas as pd \n",
    "import re\n",
    "import numpy as np"
   ]
  },
  {
   "cell_type": "code",
   "execution_count": 165,
   "id": "01e15318",
   "metadata": {},
   "outputs": [],
   "source": [
    "## Creating list for storing \n",
    "reviews = []\n",
    "stars = []\n",
    "date = []\n",
    "country = []\n",
    "travelled_class = []\n",
    "leisure_type = []\n",
    "recommended = []\n",
    "route = []\n",
    "pattern = r'(Economy Class|Business Class|First Class|Premium Economy)'"
   ]
  },
  {
   "cell_type": "code",
   "execution_count": 166,
   "id": "0f25c173",
   "metadata": {},
   "outputs": [],
   "source": [
    "## Scarping the data \n",
    "for i in range(1,39):\n",
    "    url = f\"https://www.airlinequality.com/airline-reviews/british-airways/page/{i}/?sortby=post_date%3ADesc&pagesize=100\"\n",
    "    webpage = requests.get(url)\n",
    "    soup = BeautifulSoup(webpage.content,\"lxml\")\n",
    "    # Reviews\n",
    "    for item in soup.find_all(\"div\", class_=\"text_content\"):\n",
    "        reviews.append(item.text)\n",
    "    # Ratings\n",
    "    for item in soup.find_all(\"div\", class_ = \"rating-10\"):\n",
    "        try:\n",
    "            stars.append(int(item.span.text))\n",
    "        except:\n",
    "            continue\n",
    "    # Travelled Class\n",
    "    for item in soup.find_all(\"div\", class_=\"review-stats\"):\n",
    "        try:\n",
    "            travelled_class.append(re.findall(pattern,item.text)[0])\n",
    "        except:\n",
    "            travelled_class.append(np.nan)\n",
    "    # Date Flown\n",
    "    for item in soup.find_all(\"time\"):\n",
    "        date.append(item.text)\n",
    "    # Country\n",
    "    for item in soup.find_all(\"h3\"):\n",
    "        country.append(item.span.next_sibling.text.strip(\" ()\"))\n",
    "    # Leisure Type\n",
    "    for item in soup.find_all('td', class_='review-rating-header type_of_traveller'):\n",
    "        leisure_type.append(item.find_next_sibling('td', class_='review-value').text)\n",
    "    # Recommended Type\n",
    "    for item in soup.find_all('td', class_='review-rating-header recommended'):\n",
    "        try:\n",
    "            recommended.append(item.find_next_sibling('td', class_='review-value rating-no').text)\n",
    "        except:\n",
    "            recommended.append(\"Yes\")\n",
    "    # Route Flown\n",
    "    for item in soup.find_all('td', class_='review-rating-header route'):\n",
    "        route.append(item.find_next_sibling('td', class_='review-value').text)\n",
    "    \n"
   ]
  },
  {
   "cell_type": "code",
   "execution_count": 167,
   "id": "f2bcd3bd",
   "metadata": {},
   "outputs": [
    {
     "name": "stdout",
     "output_type": "stream",
     "text": [
      "3799 3832 3799 3799 3799 3799\n"
     ]
    }
   ],
   "source": [
    "## Checking If all lengths are equal because then only we can create dataframe\n",
    "print(len(reviews),len(stars),len(travelled_class),len(date),len(country),len(recommended))\n"
   ]
  },
  {
   "cell_type": "code",
   "execution_count": 168,
   "id": "250297f0",
   "metadata": {},
   "outputs": [
    {
     "data": {
      "text/plain": [
       "3799"
      ]
     },
     "execution_count": 168,
     "metadata": {},
     "output_type": "execute_result"
    }
   ],
   "source": [
    "## Stars list has more values so we are reducung it to common scale to create dataframe\n",
    "stars = stars[:3799]\n",
    "len(stars)"
   ]
  },
  {
   "cell_type": "code",
   "execution_count": 169,
   "id": "15854317",
   "metadata": {},
   "outputs": [],
   "source": [
    "## Create  a dataframe from these collected lists of data\n",
    "\n",
    "df = pd.DataFrame({\"Date Flown\":date,\n",
    "                   \"Reviews\":reviews,\n",
    "                   \"Ratings Provided\": stars, \n",
    "                   \"Country\": country,\n",
    "                   \"Travelled Class\":travelled_class,\n",
    "                   \"Recommended Type\":recommended\n",
    "                   })"
   ]
  },
  {
   "cell_type": "code",
   "execution_count": 170,
   "id": "254a7800",
   "metadata": {},
   "outputs": [
    {
     "data": {
      "text/html": [
       "<div>\n",
       "<style scoped>\n",
       "    .dataframe tbody tr th:only-of-type {\n",
       "        vertical-align: middle;\n",
       "    }\n",
       "\n",
       "    .dataframe tbody tr th {\n",
       "        vertical-align: top;\n",
       "    }\n",
       "\n",
       "    .dataframe thead th {\n",
       "        text-align: right;\n",
       "    }\n",
       "</style>\n",
       "<table border=\"1\" class=\"dataframe\">\n",
       "  <thead>\n",
       "    <tr style=\"text-align: right;\">\n",
       "      <th></th>\n",
       "      <th>Date Flown</th>\n",
       "      <th>Reviews</th>\n",
       "      <th>Ratings Provided</th>\n",
       "      <th>Country</th>\n",
       "      <th>Travelled Class</th>\n",
       "      <th>Recommended Type</th>\n",
       "    </tr>\n",
       "  </thead>\n",
       "  <tbody>\n",
       "    <tr>\n",
       "      <th>0</th>\n",
       "      <td>26th May 2024</td>\n",
       "      <td>✅ Trip Verified |  A premium price for a sub-p...</td>\n",
       "      <td>5</td>\n",
       "      <td>United Kingdom</td>\n",
       "      <td>Business Class</td>\n",
       "      <td>no</td>\n",
       "    </tr>\n",
       "    <tr>\n",
       "      <th>1</th>\n",
       "      <td>20th May 2024</td>\n",
       "      <td>✅ Trip Verified |  Really terrible user experi...</td>\n",
       "      <td>3</td>\n",
       "      <td>United States</td>\n",
       "      <td>Economy Class</td>\n",
       "      <td>no</td>\n",
       "    </tr>\n",
       "    <tr>\n",
       "      <th>2</th>\n",
       "      <td>18th May 2024</td>\n",
       "      <td>✅ Trip Verified | Very impressed with BA. Chec...</td>\n",
       "      <td>3</td>\n",
       "      <td>United Kingdom</td>\n",
       "      <td>Economy Class</td>\n",
       "      <td>Yes</td>\n",
       "    </tr>\n",
       "    <tr>\n",
       "      <th>3</th>\n",
       "      <td>14th May 2024</td>\n",
       "      <td>✅ Trip Verified |  LHR - SFO, LAS - LGW August...</td>\n",
       "      <td>9</td>\n",
       "      <td>United Kingdom</td>\n",
       "      <td>Business Class</td>\n",
       "      <td>no</td>\n",
       "    </tr>\n",
       "    <tr>\n",
       "      <th>4</th>\n",
       "      <td>8th May 2024</td>\n",
       "      <td>Not Verified |   I flew from Malaga via LHR to...</td>\n",
       "      <td>3</td>\n",
       "      <td>Canada</td>\n",
       "      <td>Economy Class</td>\n",
       "      <td>no</td>\n",
       "    </tr>\n",
       "    <tr>\n",
       "      <th>...</th>\n",
       "      <td>...</td>\n",
       "      <td>...</td>\n",
       "      <td>...</td>\n",
       "      <td>...</td>\n",
       "      <td>...</td>\n",
       "      <td>...</td>\n",
       "    </tr>\n",
       "    <tr>\n",
       "      <th>3794</th>\n",
       "      <td>29th August 2012</td>\n",
       "      <td>LHR-JFK-LAX-LHR. Check in was ok apart from be...</td>\n",
       "      <td>8</td>\n",
       "      <td>United Kingdom</td>\n",
       "      <td>Economy Class</td>\n",
       "      <td>no</td>\n",
       "    </tr>\n",
       "    <tr>\n",
       "      <th>3795</th>\n",
       "      <td>28th August 2012</td>\n",
       "      <td>LHR to HAM. Purser addresses all club passenge...</td>\n",
       "      <td>9</td>\n",
       "      <td>United Kingdom</td>\n",
       "      <td>Business Class</td>\n",
       "      <td>Yes</td>\n",
       "    </tr>\n",
       "    <tr>\n",
       "      <th>3796</th>\n",
       "      <td>12th October 2011</td>\n",
       "      <td>My son who had worked for British Airways urge...</td>\n",
       "      <td>8</td>\n",
       "      <td>United Kingdom</td>\n",
       "      <td>Economy Class</td>\n",
       "      <td>Yes</td>\n",
       "    </tr>\n",
       "    <tr>\n",
       "      <th>3797</th>\n",
       "      <td>11th October 2011</td>\n",
       "      <td>London City-New York JFK via Shannon on A318 b...</td>\n",
       "      <td>10</td>\n",
       "      <td>United States</td>\n",
       "      <td>Premium Economy</td>\n",
       "      <td>no</td>\n",
       "    </tr>\n",
       "    <tr>\n",
       "      <th>3798</th>\n",
       "      <td>9th October 2011</td>\n",
       "      <td>SIN-LHR BA12 B747-436 First Class. Old aircraf...</td>\n",
       "      <td>8</td>\n",
       "      <td>United Kingdom</td>\n",
       "      <td>First Class</td>\n",
       "      <td>no</td>\n",
       "    </tr>\n",
       "  </tbody>\n",
       "</table>\n",
       "<p>3799 rows × 6 columns</p>\n",
       "</div>"
      ],
      "text/plain": [
       "             Date Flown                                            Reviews  \\\n",
       "0         26th May 2024  ✅ Trip Verified |  A premium price for a sub-p...   \n",
       "1         20th May 2024  ✅ Trip Verified |  Really terrible user experi...   \n",
       "2         18th May 2024  ✅ Trip Verified | Very impressed with BA. Chec...   \n",
       "3         14th May 2024  ✅ Trip Verified |  LHR - SFO, LAS - LGW August...   \n",
       "4          8th May 2024  Not Verified |   I flew from Malaga via LHR to...   \n",
       "...                 ...                                                ...   \n",
       "3794   29th August 2012  LHR-JFK-LAX-LHR. Check in was ok apart from be...   \n",
       "3795   28th August 2012  LHR to HAM. Purser addresses all club passenge...   \n",
       "3796  12th October 2011  My son who had worked for British Airways urge...   \n",
       "3797  11th October 2011  London City-New York JFK via Shannon on A318 b...   \n",
       "3798   9th October 2011  SIN-LHR BA12 B747-436 First Class. Old aircraf...   \n",
       "\n",
       "      Ratings Provided         Country  Travelled Class Recommended Type  \n",
       "0                    5  United Kingdom   Business Class               no  \n",
       "1                    3   United States    Economy Class               no  \n",
       "2                    3  United Kingdom    Economy Class              Yes  \n",
       "3                    9  United Kingdom   Business Class               no  \n",
       "4                    3          Canada    Economy Class               no  \n",
       "...                ...             ...              ...              ...  \n",
       "3794                 8  United Kingdom    Economy Class               no  \n",
       "3795                 9  United Kingdom   Business Class              Yes  \n",
       "3796                 8  United Kingdom    Economy Class              Yes  \n",
       "3797                10   United States  Premium Economy               no  \n",
       "3798                 8  United Kingdom      First Class               no  \n",
       "\n",
       "[3799 rows x 6 columns]"
      ]
     },
     "execution_count": 170,
     "metadata": {},
     "output_type": "execute_result"
    }
   ],
   "source": [
    "df"
   ]
  },
  {
   "cell_type": "code",
   "execution_count": 171,
   "id": "c6fefd0e",
   "metadata": {},
   "outputs": [],
   "source": [
    "## Exporting the dataframe into csv \n",
    "df.to_csv(\"D:\"+ \"/British_Airways_Reviews.csv\")"
   ]
  },
  {
   "cell_type": "code",
   "execution_count": 173,
   "id": "df7f49b3",
   "metadata": {},
   "outputs": [
    {
     "data": {
      "text/plain": [
       "Economy Class      1978\n",
       "Business Class     1235\n",
       "Premium Economy     369\n",
       "First Class         215\n",
       "Name: Travelled Class, dtype: int64"
      ]
     },
     "execution_count": 173,
     "metadata": {},
     "output_type": "execute_result"
    }
   ],
   "source": [
    "df[\"Travelled Class\"].value_counts()"
   ]
  },
  {
   "cell_type": "code",
   "execution_count": null,
   "id": "bf099186",
   "metadata": {},
   "outputs": [],
   "source": []
  }
 ],
 "metadata": {
  "kernelspec": {
   "display_name": "Python 3 (ipykernel)",
   "language": "python",
   "name": "python3"
  },
  "language_info": {
   "codemirror_mode": {
    "name": "ipython",
    "version": 3
   },
   "file_extension": ".py",
   "mimetype": "text/x-python",
   "name": "python",
   "nbconvert_exporter": "python",
   "pygments_lexer": "ipython3",
   "version": "3.11.4"
  }
 },
 "nbformat": 4,
 "nbformat_minor": 5
}
